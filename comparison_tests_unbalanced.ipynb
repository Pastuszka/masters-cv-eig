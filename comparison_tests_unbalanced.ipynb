{
 "cells": [
  {
   "cell_type": "code",
   "execution_count": 1,
   "metadata": {},
   "outputs": [
    {
     "name": "stderr",
     "output_type": "stream",
     "text": [
      "<ipython-input-1-bf68ba4e83d5>:10: TqdmExperimentalWarning: Using `tqdm.autonotebook.tqdm` in notebook mode. Use `tqdm.tqdm` instead to force console mode (e.g. in jupyter console)\n",
      "  from tqdm.autonotebook import tqdm\n"
     ]
    }
   ],
   "source": [
    "import cveig\n",
    "import matplotlib.pyplot as plt\n",
    "import numpy as np\n",
    "from scipy import sparse\n",
    "import pandas as pd\n",
    "from scipy import stats\n",
    "import numpy as np\n",
    "from scipy.stats import binom\n",
    "import pickle\n",
    "from tqdm.autonotebook import tqdm\n",
    "import seaborn as sns"
   ]
  },
  {
   "cell_type": "code",
   "execution_count": 2,
   "metadata": {},
   "outputs": [
    {
     "data": {
      "application/vnd.jupyter.widget-view+json": {
       "model_id": "2ae3d5e53cdd49e9b1135f63cdb4d281",
       "version_major": 2,
       "version_minor": 0
      },
      "text/plain": [
       "  0%|          | 0/8 [00:00<?, ?it/s]"
      ]
     },
     "metadata": {},
     "output_type": "display_data"
    },
    {
     "data": {
      "application/vnd.jupyter.widget-view+json": {
       "model_id": "315eaf6e86b24099a339d4af63f6fd56",
       "version_major": 2,
       "version_minor": 0
      },
      "text/plain": [
       "  0%|          | 0/10 [00:00<?, ?it/s]"
      ]
     },
     "metadata": {},
     "output_type": "display_data"
    },
    {
     "data": {
      "application/vnd.jupyter.widget-view+json": {
       "model_id": "fbc9d21b28f44e2393dd182133bf30b0",
       "version_major": 2,
       "version_minor": 0
      },
      "text/plain": [
       "  0%|          | 0/10 [00:00<?, ?it/s]"
      ]
     },
     "metadata": {},
     "output_type": "display_data"
    },
    {
     "data": {
      "application/vnd.jupyter.widget-view+json": {
       "model_id": "84ea481e3cdc4aafa3ab5083e5d9acd4",
       "version_major": 2,
       "version_minor": 0
      },
      "text/plain": [
       "  0%|          | 0/10 [00:00<?, ?it/s]"
      ]
     },
     "metadata": {},
     "output_type": "display_data"
    },
    {
     "data": {
      "application/vnd.jupyter.widget-view+json": {
       "model_id": "c1ffbcb4d25a4fb2bd71b3830e1e2b38",
       "version_major": 2,
       "version_minor": 0
      },
      "text/plain": [
       "  0%|          | 0/10 [00:00<?, ?it/s]"
      ]
     },
     "metadata": {},
     "output_type": "display_data"
    },
    {
     "data": {
      "application/vnd.jupyter.widget-view+json": {
       "model_id": "c8e96ec163da42438f03f46dec1153ba",
       "version_major": 2,
       "version_minor": 0
      },
      "text/plain": [
       "  0%|          | 0/10 [00:00<?, ?it/s]"
      ]
     },
     "metadata": {},
     "output_type": "display_data"
    },
    {
     "data": {
      "application/vnd.jupyter.widget-view+json": {
       "model_id": "dbd9cf6d2d00413a85934dff3d346198",
       "version_major": 2,
       "version_minor": 0
      },
      "text/plain": [
       "  0%|          | 0/10 [00:00<?, ?it/s]"
      ]
     },
     "metadata": {},
     "output_type": "display_data"
    },
    {
     "data": {
      "application/vnd.jupyter.widget-view+json": {
       "model_id": "8e3d1633abe44c9c8caf3cb432ab94d5",
       "version_major": 2,
       "version_minor": 0
      },
      "text/plain": [
       "  0%|          | 0/10 [00:00<?, ?it/s]"
      ]
     },
     "metadata": {},
     "output_type": "display_data"
    },
    {
     "data": {
      "application/vnd.jupyter.widget-view+json": {
       "model_id": "640bd6bb067546d18f8194f265883f9d",
       "version_major": 2,
       "version_minor": 0
      },
      "text/plain": [
       "  0%|          | 0/10 [00:00<?, ?it/s]"
      ]
     },
     "metadata": {},
     "output_type": "display_data"
    }
   ],
   "source": [
    "k = 10\n",
    "n_tries = 10\n",
    "expected_degrees = np.arange(25, 61, 5)\n",
    "thetas = ['point', 'exp', 'pareto']\n",
    "results = np.empty((n_tries, len(expected_degrees), len(thetas), 5))\n",
    "\n",
    "for d, degree in enumerate(tqdm(expected_degrees)):\n",
    "    for i in tqdm(range(n_tries)):\n",
    "        for j, theta in enumerate(thetas):\n",
    "            file = f'../../masters_r/samples_unbalanced/graph_{theta}_unbalanced_{degree}_{i+1}.table'\n",
    "            # print(file)\n",
    "            adj_matrix = pd.read_table(file, sep=' ').to_numpy()\n",
    "                \n",
    "            adj_matrix = sparse.csr_array(adj_matrix)\n",
    "\n",
    "            results[i, d, j, 0] = cveig.eig_cv(adj_matrix, 15, 0.05)\n",
    "            results[i, d, j, 1] = cveig.eig_cv(adj_matrix, 15, 0.1)\n",
    "            results[i, d, j, 2] = cveig.eig_cv(adj_matrix, 15, 0.3)\n",
    "            results[i, d, j, 3] = cveig.eig_cv(adj_matrix, 15, 0.5)\n",
    "            results[i, d, j, 4] = cveig.eig_cv(adj_matrix, 15, 0.8)\n"
   ]
  },
  {
   "cell_type": "code",
   "execution_count": 3,
   "metadata": {},
   "outputs": [],
   "source": [
    "with open('results_split_unbalanced.pickle', 'wb') as f:\n",
    "    pickle.dump(results, f)"
   ]
  },
  {
   "cell_type": "code",
   "execution_count": 2,
   "metadata": {},
   "outputs": [],
   "source": [
    "with open('results_split_unbalanced.pickle', 'rb') as f:\n",
    "    results = pickle.load(f)\n",
    "k = 10\n",
    "n_tries = 10\n",
    "expected_degrees = np.arange(25, 61, 5)\n",
    "thetas = ['point', 'exp', 'pareto']"
   ]
  },
  {
   "cell_type": "code",
   "execution_count": 3,
   "metadata": {},
   "outputs": [
    {
     "data": {
      "application/vnd.jupyter.widget-view+json": {
       "model_id": "0692af2738ff4bb899834b8ca7f11219",
       "version_major": 2,
       "version_minor": 0
      },
      "text/plain": [
       "  0%|          | 0/8 [00:00<?, ?it/s]"
      ]
     },
     "metadata": {},
     "output_type": "display_data"
    },
    {
     "data": {
      "application/vnd.jupyter.widget-view+json": {
       "model_id": "7c260a2b6a1d48188a9618cde28bf812",
       "version_major": 2,
       "version_minor": 0
      },
      "text/plain": [
       "  0%|          | 0/10 [00:00<?, ?it/s]"
      ]
     },
     "metadata": {},
     "output_type": "display_data"
    },
    {
     "data": {
      "application/vnd.jupyter.widget-view+json": {
       "model_id": "01cb88f5bb0e4930a3686bc49895be5a",
       "version_major": 2,
       "version_minor": 0
      },
      "text/plain": [
       "  0%|          | 0/10 [00:00<?, ?it/s]"
      ]
     },
     "metadata": {},
     "output_type": "display_data"
    },
    {
     "data": {
      "application/vnd.jupyter.widget-view+json": {
       "model_id": "30e5f15c875341a9910981f8eb653656",
       "version_major": 2,
       "version_minor": 0
      },
      "text/plain": [
       "  0%|          | 0/10 [00:00<?, ?it/s]"
      ]
     },
     "metadata": {},
     "output_type": "display_data"
    },
    {
     "data": {
      "application/vnd.jupyter.widget-view+json": {
       "model_id": "1bd2e92b1c39461ca0bca872e2c98525",
       "version_major": 2,
       "version_minor": 0
      },
      "text/plain": [
       "  0%|          | 0/10 [00:00<?, ?it/s]"
      ]
     },
     "metadata": {},
     "output_type": "display_data"
    },
    {
     "data": {
      "application/vnd.jupyter.widget-view+json": {
       "model_id": "4b91a9685a4848278a1c95119864390f",
       "version_major": 2,
       "version_minor": 0
      },
      "text/plain": [
       "  0%|          | 0/10 [00:00<?, ?it/s]"
      ]
     },
     "metadata": {},
     "output_type": "display_data"
    },
    {
     "data": {
      "application/vnd.jupyter.widget-view+json": {
       "model_id": "f484fde7d3bb4c558d80050a5dfb6f39",
       "version_major": 2,
       "version_minor": 0
      },
      "text/plain": [
       "  0%|          | 0/10 [00:00<?, ?it/s]"
      ]
     },
     "metadata": {},
     "output_type": "display_data"
    },
    {
     "data": {
      "application/vnd.jupyter.widget-view+json": {
       "model_id": "d3e1f3beeb98450e84b168124819c418",
       "version_major": 2,
       "version_minor": 0
      },
      "text/plain": [
       "  0%|          | 0/10 [00:00<?, ?it/s]"
      ]
     },
     "metadata": {},
     "output_type": "display_data"
    },
    {
     "data": {
      "application/vnd.jupyter.widget-view+json": {
       "model_id": "ecd8ca361a0c4baba7638b567aa2c293",
       "version_major": 2,
       "version_minor": 0
      },
      "text/plain": [
       "  0%|          | 0/10 [00:00<?, ?it/s]"
      ]
     },
     "metadata": {},
     "output_type": "display_data"
    },
    {
     "name": "stdout",
     "output_type": "stream",
     "text": [
      "Eigs did not converge. Computed 13 eigenvectors\n"
     ]
    }
   ],
   "source": [
    "k = 10\n",
    "n_tries = 10\n",
    "expected_degrees = np.arange(25, 61, 5)\n",
    "thetas = ['point', 'exp', 'pareto']\n",
    "results_comp = np.empty((n_tries, len(expected_degrees), len(thetas), 3))\n",
    "\n",
    "for d, degree in enumerate(tqdm(expected_degrees)):\n",
    "    for i in tqdm(range(n_tries)):\n",
    "        for j, theta in enumerate(thetas):\n",
    "            file = f'../../masters_r/samples_unbalanced/graph_{theta}_unbalanced_{degree}_{i+1}.table'\n",
    "            # print(file)\n",
    "            adj_matrix = pd.read_table(file, sep=' ').to_numpy()\n",
    "                \n",
    "            adj_matrix = sparse.csr_array(adj_matrix)\n",
    "\n",
    "            results_comp[i, d, j, 0] = cveig.non_backtracking(adj_matrix, 15)\n",
    "            results_comp[i, d, j, 1] = cveig.bethe_hessian(adj_matrix)\n",
    "            results_comp[i, d, j, 2] = cveig.eig_cv(adj_matrix, 15, 0.1)"
   ]
  },
  {
   "cell_type": "code",
   "execution_count": 4,
   "metadata": {},
   "outputs": [],
   "source": [
    "with open('results_comp_unbalanced.pickle', 'wb') as f:\n",
    "    pickle.dump(results_comp, f)"
   ]
  },
  {
   "cell_type": "code",
   "execution_count": 5,
   "metadata": {},
   "outputs": [],
   "source": [
    "with open('results_comp_unbalanced.pickle', 'rb') as f:\n",
    "    results_comp = pickle.load(f)"
   ]
  },
  {
   "cell_type": "code",
   "execution_count": 6,
   "metadata": {},
   "outputs": [],
   "source": [
    "names_split = ['sample', 'degree', 'theta', 'prob']\n",
    "names_comp = ['sample', 'degree', 'theta', 'algorithm']\n",
    "thetas = ['point', 'exp', 'pareto']\n",
    "probs = [0.05, 0.1, 0.3, 0.5, 0.8]\n",
    "algs = ['Non-backtracking', 'Bethe-Hessian', 'CV Eigenvalues']\n",
    "labels_split = [np.arange(n_tries), expected_degrees, thetas, probs]\n",
    "labels_comp = [np.arange(n_tries), expected_degrees, thetas, algs]"
   ]
  },
  {
   "cell_type": "code",
   "execution_count": 7,
   "metadata": {},
   "outputs": [],
   "source": [
    "index_split = pd.MultiIndex.from_product(labels_split, names=names_split)\n",
    "result_df_split = pd.DataFrame(results.reshape(-1, 1),index=index_split)\n",
    "result_df_split.columns = ['value']\n",
    "\n",
    "index_comp = pd.MultiIndex.from_product(labels_comp, names=names_comp)\n",
    "result_df_comp = pd.DataFrame(results_comp.reshape(-1, 1),index=index_comp)\n",
    "result_df_comp.columns = ['value']"
   ]
  },
  {
   "cell_type": "code",
   "execution_count": 8,
   "metadata": {},
   "outputs": [
    {
     "data": {
      "image/png": "[encoded data removed]",
      "text/plain": [
       "<Figure size 576x360 with 3 Axes>"
      ]
     },
     "metadata": {
      "needs_background": "light"
     },
     "output_type": "display_data"
    }
   ],
   "source": [
    "fig, ax = plt.subplots(1,3, figsize=(8,5))\n",
    "degrees = []\n",
    "for j, theta in enumerate(thetas):\n",
    "    # ax[i, j].set_title(theta)\n",
    "    sns.lineplot(\n",
    "        x=\"degree\", \n",
    "        y=\"value\", \n",
    "        ci=None, \n",
    "        data=result_df_split.loc[:, :, theta, :], \n",
    "        ax=ax[j],\n",
    "        hue='prob',\n",
    "        style='prob',\n",
    "        )\n",
    "    ax[j].set_ylim(0, 14)\n",
    "    ax[j].set_title(f'{theta=}')\n",
    "    ax[j].axhline(10)\n",
    "    ax[j].set_xlabel('Average node degree')\n",
    "    ax[j].set_ylabel('Predicted value')\n",
    "    if j>0: ax[j].set_ylabel(None)\n",
    "\n",
    "\n",
    "\n",
    "#ax[0].set_ylabel('Average error')\n",
    "#ax[1].set_xlabel('Expected vertex degree')\n",
    "#handles, labels = ax[0].get_legend_handles_labels()\n",
    "# fig.legend(handles, labels, loc='lower right', title='Number of folds')\n",
    "fig.suptitle('Predicted k for different splitting probabilities on graphs with unbalanced blocks')\n",
    "fig.tight_layout()\n",
    "fig.savefig('test_prob_unbalanced.png')"
   ]
  },
  {
   "cell_type": "code",
   "execution_count": 9,
   "metadata": {},
   "outputs": [
    {
     "data": {
      "image/png": "[encoded data removed]",
      "text/plain": [
       "<Figure size 576x360 with 3 Axes>"
      ]
     },
     "metadata": {
      "needs_background": "light"
     },
     "output_type": "display_data"
    }
   ],
   "source": [
    "fig, ax = plt.subplots(1,3, figsize=(8,5))\n",
    "degrees = []\n",
    "for j, theta in enumerate(thetas):\n",
    "    # ax[i, j].set_title(theta)\n",
    "    sns.lineplot(\n",
    "        x=\"degree\", \n",
    "        y=\"value\", \n",
    "        ci=None, \n",
    "        data=result_df_comp.loc[:, :, theta, :], \n",
    "        ax=ax[j],\n",
    "        hue='algorithm',\n",
    "        style='algorithm',\n",
    "        )\n",
    "    ax[j].set_ylim(0, 14)\n",
    "    ax[j].set_title(f'{theta=}')\n",
    "    ax[j].axhline(10)\n",
    "    ax[j].set_xlabel('Average node degree')\n",
    "    ax[j].set_ylabel('Predicted value')\n",
    "    if j>0: ax[j].set_ylabel(None)\n",
    "\n",
    "\n",
    "\n",
    "#ax[0].set_ylabel('Average error')\n",
    "#ax[1].set_xlabel('Expected vertex degree')\n",
    "#handles, labels = ax[0].get_legend_handles_labels()\n",
    "# fig.legend(handles, labels, loc='lower right', title='Number of folds')\n",
    "fig.suptitle('Predicted k for different algorithms on graphs with unbalanced blocks')\n",
    "fig.tight_layout()\n",
    "fig.savefig('test_alg_unbalanced.png')"
   ]
  },
  {
   "cell_type": "code",
   "execution_count": null,
   "metadata": {},
   "outputs": [],
   "source": []
  }
 ],
 "metadata": {
  "interpreter": {
   "hash": "a47e1e2c49c050a34b8a1fd5e73ef0ffb5353ba12db54c1637a8441d5d8b2e0f"
  },
  "kernelspec": {
   "display_name": "Python 3.9.13 64-bit",
   "language": "python",
   "name": "python3"
  },
  "language_info": {
   "codemirror_mode": {
    "name": "ipython",
    "version": 3
   },
   "file_extension": ".py",
   "mimetype": "text/x-python",
   "name": "python",
   "nbconvert_exporter": "python",
   "pygments_lexer": "ipython3",
   "version": "3.9.13"
  },
  "orig_nbformat": 4
 },
 "nbformat": 4,
 "nbformat_minor": 2
}
