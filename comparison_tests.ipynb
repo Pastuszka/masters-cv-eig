{
 "cells": [
  {
   "cell_type": "code",
   "execution_count": null,
   "metadata": {},
   "outputs": [],
   "source": [
    "import cveig\n",
    "import matplotlib.pyplot as plt\n",
    "import numpy as np\n",
    "from scipy import sparse\n",
    "import pandas as pd\n",
    "from scipy import stats\n",
    "import numpy as np\n",
    "from scipy.stats import binom\n",
    "import pickle\n",
    "from tqdm.autonotebook import tqdm\n",
    "import seaborn as sns"
   ]
  },
  {
   "cell_type": "code",
   "execution_count": null,
   "metadata": {},
   "outputs": [],
   "source": [
    "k = 10\n",
    "n_tries = 10\n",
    "expected_degrees = np.arange(25, 61, 5)\n",
    "thetas = ['point', 'exp', 'pareto']\n",
    "results = np.empty((n_tries, len(expected_degrees), len(thetas), 5))\n",
    "\n",
    "for d, degree in enumerate(tqdm(expected_degrees)):\n",
    "    for i in tqdm(range(n_tries)):\n",
    "        for j, theta in enumerate(thetas):\n",
    "            file = f'../../masters_r/samples/graph_{theta}_{degree}_{i+1}.table'\n",
    "            # print(file)\n",
    "            adj_matrix = pd.read_table(file, sep=' ').to_numpy()\n",
    "                \n",
    "            adj_matrix = sparse.csr_array(adj_matrix)\n",
    "\n",
    "            results[i, d, j, 0] = cveig.eig_cv(adj_matrix, 15, 0.05)\n",
    "            results[i, d, j, 1] = cveig.eig_cv(adj_matrix, 15, 0.1)\n",
    "            results[i, d, j, 2] = cveig.eig_cv(adj_matrix, 15, 0.3)\n",
    "            results[i, d, j, 3] = cveig.eig_cv(adj_matrix, 15, 0.5)\n",
    "            results[i, d, j, 4] = cveig.eig_cv(adj_matrix, 15, 0.8)\n"
   ]
  },
  {
   "cell_type": "code",
   "execution_count": null,
   "metadata": {},
   "outputs": [],
   "source": [
    "with open('results_split.pickle', 'wb') as f:\n",
    "    pickle.dump(results, f)"
   ]
  },
  {
   "cell_type": "code",
   "execution_count": null,
   "metadata": {},
   "outputs": [],
   "source": [
    "k = 10\n",
    "n_tries = 10\n",
    "expected_degrees = np.arange(25, 61, 5)\n",
    "thetas = ['point', 'exp', 'pareto']\n",
    "results_comp = np.empty((n_tries, len(expected_degrees), len(thetas), 3))\n",
    "\n",
    "for d, degree in enumerate(tqdm(expected_degrees)):\n",
    "    for i in tqdm(range(n_tries)):\n",
    "        for j, theta in enumerate(thetas):\n",
    "            file = f'../../masters_r/samples/graph_{theta}_{degree}_{i+1}.table'\n",
    "            # print(file)\n",
    "            adj_matrix = pd.read_table(file, sep=' ').to_numpy()\n",
    "                \n",
    "            adj_matrix = sparse.csr_array(adj_matrix)\n",
    "\n",
    "            results_comp[i, d, j, 0] = cveig.non_backtracking(adj_matrix, 15)\n",
    "            results_comp[i, d, j, 1] = cveig.bethe_hessian(adj_matrix)\n",
    "            results_comp[i, d, j, 2] = cveig.eig_cv(adj_matrix, 15, 0.1)"
   ]
  },
  {
   "cell_type": "code",
   "execution_count": null,
   "metadata": {},
   "outputs": [],
   "source": [
    "with open('results_comp.pickle', 'wb') as f:\n",
    "    pickle.dump(results_comp, f)"
   ]
  },
  {
   "cell_type": "code",
   "execution_count": null,
   "metadata": {},
   "outputs": [],
   "source": [
    "names_split = ['sample', 'degree', 'theta', 'prob']\n",
    "names_comp = ['sample', 'degree', 'theta', 'algorithm']\n",
    "thetas = ['point', 'exp', 'pareto']\n",
    "probs = [0.05, 0.1, 0.3, 0.5, 0.8]\n",
    "algs = ['Non-backtracking', 'Bethe-Hessian', 'CV Eigenvalues']\n",
    "labels_split = [np.arange(n_tries), expected_degrees, thetas, probs]\n",
    "labels_comp = [np.arange(n_tries), expected_degrees, thetas, algs]"
   ]
  },
  {
   "cell_type": "code",
   "execution_count": null,
   "metadata": {},
   "outputs": [],
   "source": [
    "index_split = pd.MultiIndex.from_product(labels_split, names=names_split)\n",
    "result_df_split = pd.DataFrame(results.reshape(-1, 1),index=index_split)\n",
    "result_df_split.columns = ['value']\n",
    "\n",
    "index_comp = pd.MultiIndex.from_product(labels_comp, names=names_comp)\n",
    "result_df_comp = pd.DataFrame(results.reshape(-1, 1),index=index_comp)\n",
    "result_df_comp.columns = ['value']"
   ]
  },
  {
   "cell_type": "code",
   "execution_count": null,
   "metadata": {},
   "outputs": [],
   "source": [
    "fig, ax = plt.subplots(1,3, figsize=(8,5))\n",
    "degrees = []\n",
    "for j, theta in enumerate(thetas):\n",
    "    # ax[i, j].set_title(theta)\n",
    "    sns.lineplot(\n",
    "        x=\"degree\", \n",
    "        y=\"value\", \n",
    "        ci=None, \n",
    "        data=result_df_split.loc[:, :, theta, :], \n",
    "        ax=ax[j],\n",
    "        hue='prob',\n",
    "        )\n",
    "    ax[j].set_ylim(0, 14)\n",
    "    ax[j].set_title(f'{theta=}')\n",
    "    ax[j].axhline(10)\n",
    "    if j>0: ax[j].set_ylabel(None)\n",
    "\n",
    "\n",
    "\n",
    "#ax[0].set_ylabel('Average error')\n",
    "#ax[1].set_xlabel('Expected vertex degree')\n",
    "#handles, labels = ax[0].get_legend_handles_labels()\n",
    "# fig.legend(handles, labels, loc='lower right', title='Number of folds')\n",
    "fig.suptitle('Predicted k for different splitting probabilities')\n",
    "fig.tight_layout()\n",
    "fig.savefig('test_prob.png')"
   ]
  },
  {
   "cell_type": "code",
   "execution_count": null,
   "metadata": {},
   "outputs": [],
   "source": [
    "fig, ax = plt.subplots(1,3, figsize=(8,5))\n",
    "degrees = []\n",
    "for j, theta in enumerate(thetas):\n",
    "    # ax[i, j].set_title(theta)\n",
    "    sns.lineplot(\n",
    "        x=\"degree\", \n",
    "        y=\"value\", \n",
    "        ci=None, \n",
    "        data=result_df_comp.loc[:, :, theta, :], \n",
    "        ax=ax[j],\n",
    "        hue='algorithm',\n",
    "        )\n",
    "    ax[j].set_ylim(0, 14)\n",
    "    ax[j].set_title(f'{theta=}')\n",
    "    ax[j].axhline(10)\n",
    "    if j>0: ax[j].set_ylabel(None)\n",
    "\n",
    "\n",
    "\n",
    "#ax[0].set_ylabel('Average error')\n",
    "#ax[1].set_xlabel('Expected vertex degree')\n",
    "#handles, labels = ax[0].get_legend_handles_labels()\n",
    "# fig.legend(handles, labels, loc='lower right', title='Number of folds')\n",
    "fig.suptitle('Predicted k for different algorithms')\n",
    "fig.tight_layout()\n",
    "fig.savefig('test_alg.png')"
   ]
  }
 ],
 "metadata": {
  "language_info": {
   "name": "python"
  },
  "orig_nbformat": 4
 },
 "nbformat": 4,
 "nbformat_minor": 2
}
